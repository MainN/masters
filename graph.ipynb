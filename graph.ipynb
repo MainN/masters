{
  "nbformat": 4,
  "nbformat_minor": 0,
  "metadata": {
    "colab": {
      "name": "graph.ipynb",
      "provenance": [],
      "collapsed_sections": []
    },
    "kernelspec": {
      "name": "python3",
      "display_name": "Python 3"
    },
    "language_info": {
      "name": "python"
    }
  },
  "cells": [
    {
      "cell_type": "code",
      "metadata": {
        "colab": {
          "base_uri": "https://localhost:8080/"
        },
        "id": "FyakJGkXZdsB",
        "outputId": "a9321d63-b21f-4726-e7b1-454a76575516"
      },
      "source": [
        "from google.colab import drive\n",
        "drive.mount('/content/gdrive')\n",
        "import sys\n",
        "sys.path.append('/content/gdrive/MyDrive')"
      ],
      "execution_count": 2,
      "outputs": [
        {
          "output_type": "stream",
          "name": "stdout",
          "text": [
            "Mounted at /content/gdrive\n"
          ]
        }
      ]
    },
    {
      "cell_type": "code",
      "metadata": {
        "id": "B5ybJVL55wID",
        "colab": {
          "base_uri": "https://localhost:8080/"
        },
        "outputId": "df2888a4-5edc-4fb6-8df4-446c2c04921b"
      },
      "source": [
        "import networkx as nx\n",
        "import numpy as np\n",
        "import random\n",
        "import pandas as pd\n",
        "import seaborn as sns\n",
        "import epi_process as ep\n",
        "from matplotlib import pyplot as plt\n",
        "import matplotlib\n",
        "import matplotlib.animation as animation\n",
        "from matplotlib.animation import PillowWriter\n",
        "from matplotlib.animation import FuncAnimation\n",
        "sns.set()"
      ],
      "execution_count": 3,
      "outputs": [
        {
          "output_type": "stream",
          "name": "stdout",
          "text": [
            "Drive already mounted at /content/gdrive; to attempt to forcibly remount, call drive.mount(\"/content/gdrive\", force_remount=True).\n"
          ]
        }
      ]
    },
    {
      "cell_type": "code",
      "metadata": {
        "id": "hZhLPHuxeI9S"
      },
      "source": [
        "class EpiProcess():\n",
        "    def __init__(self, size, percent, viz=False):\n",
        "        #вызываем стартовые инциализаторы\n",
        "        self.paramertrs_init(size, percent, viz)\n",
        "\n",
        "        self.graph_init()  \n",
        "\n",
        "        self.random_start_sample()\n",
        "        \n",
        "        if self.viz:\n",
        "            self.viz_init(viz)\n",
        "\n",
        "    def paramertrs_init(self, size, percent, viz):\n",
        "        #инициализируем параметры процесса\n",
        "        self.size = size\n",
        "        self.percent = percent\n",
        "        self.cummulitive_sum_I = 0\n",
        "        self.iterations = []\n",
        "        self.viz=viz\n",
        "    def graph_init(self):\n",
        "        #строим configuration_model\n",
        "        sequence = nx.random_powerlaw_tree_sequence(self.size, tries=5000000)\n",
        "        self.G = nx.configuration_model(sequence)\n",
        "\n",
        "    def viz_init(self,viz):\n",
        "        #инциализируем необходимое для визуализации распростронения\n",
        "        self.fig = None\n",
        "        self.axes = None\n",
        "        self.pos = nx.spring_layout(self.G)\n",
        "        self.gif=[]\n",
        "        self.colors = sns.color_palette(\"hls\", 8)\n",
        "\n",
        "    def random_start_sample(self):\n",
        "        #Инициализация множеств индивидуумов, изначальной выборки\n",
        "        self.start_sample_size = int(self.size/100 * self.percent)\n",
        "        self.S = set(self.G)\n",
        "        self.I = set()\n",
        "        self.R = set()\n",
        "        self.tmp = set()\n",
        "        self.result = []\n",
        "\n",
        "        #Заражаем изначальный процент\n",
        "        while len(self.I)<self.start_sample_size:\n",
        "            self.infect(random.randint(0, self.size))\n",
        "        \n",
        "    def infect(self, x):\n",
        "        #Заражаем конкретного индивиидума путём перемещения его из множества\n",
        "        self.S.discard(x)\n",
        "        if not x in self.R:\n",
        "            self.I.add(x)\n",
        "        \n",
        "    def recover(self, x):\n",
        "        #Конкретный индивидуум переболел перемещаем его в множество переболевших\n",
        "        self.I.discard(x)\n",
        "        self.R.add(x)\n",
        "\n",
        "    def infect_neigh(self, x):\n",
        "        #метод заражения соседей\n",
        "        for neigh in self.G.neighbors(x):\n",
        "                self.infect(neigh)\n",
        "        \n",
        "    def iterartion(self):\n",
        "        #метод итерации в графе\n",
        "        #создаем копию больных что бы ничего не испортить\n",
        "        self.tmp = self.I.copy()\n",
        "\n",
        "        #для больных заражаем соседей а сам больной восстанавливается\n",
        "        for x in self.tmp:\n",
        "            self.infect_neigh(x)\n",
        "            self.recover(x)\n",
        "        \n",
        "    def run(self):\n",
        "        if self.viz == True:\n",
        "            #если включена визуализация\n",
        "            while len(self.I) != 0:\n",
        "                #добавляем текущую итерацию в список картинок\n",
        "                self.gif.append(self.vis_spread_info())\n",
        "\n",
        "                #добавляем в результирующий список больных на текущий момент\n",
        "                self.result.append(len(self.I))\n",
        "\n",
        "                #проводим следующую итерацию\n",
        "                self.iterartion()\n",
        "\n",
        "            #повторяем для последней итерации    \n",
        "            self.result.append(len(self.I))\n",
        "            self.gif.append(self.vis_spread_info())\n",
        "        else:\n",
        "            #если визуализация выключена\n",
        "            while len(self.I) != 0:\n",
        "                 #добавляем в результирующий список больных на текущий момент\n",
        "                self.result.append(len(self.I))\n",
        "\n",
        "                #проводим следующую итерацию\n",
        "                self.iterartion() \n",
        "\n",
        "            #повторяем для последней итерации      \n",
        "            self.result.append(len(self.I))\n",
        "    def viz_run(self):\n",
        "        #метод визуализации распростронения по количеству больных на момент времени\n",
        "        #получаем из списка результа данные в нужном формате\n",
        "        y = pd.Series(self.result, name=\"count\")\n",
        "\n",
        "        #конвертируем итерации в моменты врмени\n",
        "        x = pd.Series(range(1,len(self.result)+2), name=\"iteration\")\n",
        "\n",
        "        return sns.lineplot(x,y)\n",
        "\n",
        "    def plot_degree_dist(self):\n",
        "        #лямда перебора количества соседей для каждой вершины\n",
        "        degrees = [self.G.degree(n) for n in self.G.nodes()]\n",
        "\n",
        "        sns.displot(degrees)\n",
        "\n",
        "    def plot_degree_dist_neigh(self):\n",
        "        #получаем график распредления среднего количества соседей среди сосдеей для каждой вершины графа \n",
        "        sns.displot(nx.average_neighbor_degree(self.G))\n",
        "\n",
        "    def vis_spread_info(self):\n",
        "        #получаем актуальные цвета вершин на текущую итерацию\n",
        "        colors = (list([self.colors[0]] * len(self.S)) + \n",
        "        list([self.colors[1]] * len(self.I)) + \n",
        "        list([self.colors[2]] * len(self.R)))\n",
        "\n",
        "        #получаем актуальную принадлежность множествам вершин на текущую итерацию\n",
        "        nodes = (list(self.S) +\n",
        "                 list(self.I) + \n",
        "                 list(self.R))\n",
        "\n",
        "        return nodes,colors\n",
        "\n",
        "    def update(self,num):\n",
        "        #рисуем актуальный граф на итерацию Num\n",
        "\n",
        "        nx.draw_networkx_nodes(self.G, pos=self.pos, nodelist=self.gif[num][0], node_color=self.gif[num][1])\n",
        "    def viz_joint(self):\n",
        "        #получаем данные\n",
        "        neigh=nx.average_neighbor_degree(self.G)\n",
        "        degrees = [self.G.degree(n) for n in self.G.nodes()]\n",
        "        #конвертируем в пандас\n",
        "        y = pd.Series(neigh, name=\"avg_neigh_degree\")\n",
        "\n",
        "        x = pd.Series(degrees, name=\"degrees\")\n",
        "\n",
        "        #рисуем\n",
        "        sns.jointplot(x,y)"
      ],
      "execution_count": 4,
      "outputs": []
    },
    {
      "cell_type": "markdown",
      "metadata": {
        "id": "2CAXAC4S-t3c"
      },
      "source": [
        "Работа процессов"
      ]
    },
    {
      "cell_type": "code",
      "metadata": {
        "id": "syyBvl4tD1sM",
        "colab": {
          "base_uri": "https://localhost:8080/"
        },
        "outputId": "82365358-3c47-4ff9-a58d-9ec689242989"
      },
      "source": [
        "my_proc = ep.EpiProcess(1000,1,False)\n",
        "my_proc.run()\n",
        "print(my_proc.S)\n",
        "print(my_proc.I)\n",
        "print(my_proc.R)\n",
        "print(len(my_proc.S)+len(my_proc.I)+len(my_proc.R))\n",
        "print(my_proc.result)"
      ],
      "execution_count": null,
      "outputs": [
        {
          "output_type": "stream",
          "name": "stdout",
          "text": [
            "{6, 10, 16, 19, 20, 21, 22, 25, 26, 28, 40, 44, 49, 50, 61, 62, 64, 65, 72, 77, 78, 79, 82, 83, 90, 93, 94, 102, 107, 109, 110, 111, 114, 116, 117, 125, 140, 159, 162, 164, 166, 169, 170, 174, 176, 177, 179, 180, 182, 184, 187, 188, 198, 199, 201, 203, 209, 214, 219, 223, 224, 227, 231, 232, 235, 237, 238, 244, 248, 251, 256, 257, 259, 261, 274, 275, 277, 278, 280, 293, 299, 303, 311, 313, 315, 317, 323, 324, 325, 326, 333, 336, 340, 341, 342, 344, 349, 356, 358, 361, 363, 364, 365, 368, 371, 373, 378, 381, 384, 388, 392, 393, 395, 397, 398, 404, 407, 408, 410, 411, 416, 417, 419, 421, 422, 426, 428, 429, 430, 433, 434, 435, 441, 443, 450, 453, 454, 458, 459, 462, 464, 467, 468, 471, 473, 474, 481, 483, 485, 486, 488, 489, 491, 494, 496, 500, 505, 515, 516, 519, 520, 527, 530, 536, 538, 540, 541, 543, 546, 548, 549, 556, 557, 562, 567, 569, 573, 576, 582, 583, 584, 588, 593, 594, 597, 598, 603, 604, 607, 610, 613, 617, 620, 623, 624, 626, 628, 632, 635, 638, 639, 640, 645, 650, 652, 659, 660, 663, 667, 669, 673, 677, 678, 679, 685, 687, 690, 691, 692, 694, 695, 696, 699, 705, 707, 709, 714, 715, 718, 720, 723, 724, 725, 734, 735, 745, 751, 754, 759, 765, 767, 769, 771, 775, 782, 783, 785, 787, 789, 790, 792, 793, 795, 796, 801, 803, 805, 806, 812, 815, 816, 819, 821, 830, 831, 834, 840, 847, 848, 861, 862, 863, 865, 867, 871, 875, 879, 884, 886, 889, 893, 895, 897, 899, 900, 905, 908, 909, 911, 912, 913, 915, 920, 923, 925, 926, 928, 930, 931, 932, 934, 940, 942, 949, 950, 951, 952, 953, 955, 958, 961, 965, 966, 967, 971, 973, 979, 985, 994, 996}\n",
            "set()\n",
            "{0, 1, 2, 3, 4, 5, 7, 8, 9, 11, 12, 13, 14, 15, 17, 18, 23, 24, 27, 29, 30, 31, 32, 33, 34, 35, 36, 37, 38, 39, 41, 42, 43, 45, 46, 47, 48, 51, 52, 53, 54, 55, 56, 57, 58, 59, 60, 63, 66, 67, 68, 69, 70, 71, 73, 74, 75, 76, 80, 81, 84, 85, 86, 87, 88, 89, 91, 92, 95, 96, 97, 98, 99, 100, 101, 103, 104, 105, 106, 108, 112, 113, 115, 118, 119, 120, 121, 122, 123, 124, 126, 127, 128, 129, 130, 131, 132, 133, 134, 135, 136, 137, 138, 139, 141, 142, 143, 144, 145, 146, 147, 148, 149, 150, 151, 152, 153, 154, 155, 156, 157, 158, 160, 161, 163, 165, 167, 168, 171, 172, 173, 175, 178, 181, 183, 185, 186, 189, 190, 191, 192, 193, 194, 195, 196, 197, 200, 202, 204, 205, 206, 207, 208, 210, 211, 212, 213, 215, 216, 217, 218, 220, 221, 222, 225, 226, 228, 229, 230, 233, 234, 236, 239, 240, 241, 242, 243, 245, 246, 247, 249, 250, 252, 253, 254, 255, 258, 260, 262, 263, 264, 265, 266, 267, 268, 269, 270, 271, 272, 273, 276, 279, 281, 282, 283, 284, 285, 286, 287, 288, 289, 290, 291, 292, 294, 295, 296, 297, 298, 300, 301, 302, 304, 305, 306, 307, 308, 309, 310, 312, 314, 316, 318, 319, 320, 321, 322, 327, 328, 329, 330, 331, 332, 334, 335, 337, 338, 339, 343, 345, 346, 347, 348, 350, 351, 352, 353, 354, 355, 357, 359, 360, 362, 366, 367, 369, 370, 372, 374, 375, 376, 377, 379, 380, 382, 383, 385, 386, 387, 389, 390, 391, 394, 396, 399, 400, 401, 402, 403, 405, 406, 409, 412, 413, 414, 415, 418, 420, 423, 424, 425, 427, 431, 432, 436, 437, 438, 439, 440, 442, 444, 445, 446, 447, 448, 449, 451, 452, 455, 456, 457, 460, 461, 463, 465, 466, 469, 470, 472, 475, 476, 477, 478, 479, 480, 482, 484, 487, 490, 492, 493, 495, 497, 498, 499, 501, 502, 503, 504, 506, 507, 508, 509, 510, 511, 512, 513, 514, 517, 518, 521, 522, 523, 524, 525, 526, 528, 529, 531, 532, 533, 534, 535, 537, 539, 542, 544, 545, 547, 550, 551, 552, 553, 554, 555, 558, 559, 560, 561, 563, 564, 565, 566, 568, 570, 571, 572, 574, 575, 577, 578, 579, 580, 581, 585, 586, 587, 589, 590, 591, 592, 595, 596, 599, 600, 601, 602, 605, 606, 608, 609, 611, 612, 614, 615, 616, 618, 619, 621, 622, 625, 627, 629, 630, 631, 633, 634, 636, 637, 641, 642, 643, 644, 646, 647, 648, 649, 651, 653, 654, 655, 656, 657, 658, 661, 662, 664, 665, 666, 668, 670, 671, 672, 674, 675, 676, 680, 681, 682, 683, 684, 686, 688, 689, 693, 697, 698, 700, 701, 702, 703, 704, 706, 708, 710, 711, 712, 713, 716, 717, 719, 721, 722, 726, 727, 728, 729, 730, 731, 732, 733, 736, 737, 738, 739, 740, 741, 742, 743, 744, 746, 747, 748, 749, 750, 752, 753, 755, 756, 757, 758, 760, 761, 762, 763, 764, 766, 768, 770, 772, 773, 774, 776, 777, 778, 779, 780, 781, 784, 786, 788, 791, 794, 797, 798, 799, 800, 802, 804, 807, 808, 809, 810, 811, 813, 814, 817, 818, 820, 822, 823, 824, 825, 826, 827, 828, 829, 832, 833, 835, 836, 837, 838, 839, 841, 842, 843, 844, 845, 846, 849, 850, 851, 852, 853, 854, 855, 856, 857, 858, 859, 860, 864, 866, 868, 869, 870, 872, 873, 874, 876, 877, 878, 880, 881, 882, 883, 885, 887, 888, 890, 891, 892, 894, 896, 898, 901, 902, 903, 904, 906, 907, 910, 914, 916, 917, 918, 919, 921, 922, 924, 927, 929, 933, 935, 936, 937, 938, 939, 941, 943, 944, 945, 946, 947, 948, 954, 956, 957, 959, 960, 962, 963, 964, 968, 969, 970, 972, 974, 975, 976, 977, 978, 980, 981, 982, 983, 984, 986, 987, 988, 989, 990, 991, 992, 993, 995, 997, 998, 999}\n",
            "1000\n",
            "[10, 19, 89, 200, 158, 100, 51, 26, 13, 6, 5, 3, 0]\n"
          ]
        }
      ]
    },
    {
      "cell_type": "markdown",
      "metadata": {
        "id": "ZWrrmo0I-YCZ"
      },
      "source": [
        "Как распространяется эпидемия во времени\n"
      ]
    },
    {
      "cell_type": "markdown",
      "metadata": {
        "id": "CuyQspegqACy"
      },
      "source": [
        "#3)"
      ]
    },
    {
      "cell_type": "code",
      "metadata": {
        "colab": {
          "base_uri": "https://localhost:8080/",
          "height": 356
        },
        "id": "czWn6nzNIxgj",
        "outputId": "10c4eed5-ce98-477f-861b-377ea2e381f6"
      },
      "source": [
        "my_proc.viz_run()"
      ],
      "execution_count": null,
      "outputs": [
        {
          "output_type": "stream",
          "name": "stderr",
          "text": [
            "/usr/local/lib/python3.7/dist-packages/seaborn/_decorators.py:43: FutureWarning: Pass the following variables as keyword args: x, y. From version 0.12, the only valid positional argument will be `data`, and passing other arguments without an explicit keyword will result in an error or misinterpretation.\n",
            "  FutureWarning\n"
          ]
        },
        {
          "output_type": "execute_result",
          "data": {
            "text/plain": [
              "<matplotlib.axes._subplots.AxesSubplot at 0x7f23bae46d50>"
            ]
          },
          "metadata": {},
          "execution_count": 6
        },
        {
          "output_type": "display_data",
          "data": {
            "image/png": "[encoded data removed]",
            "text/plain": [
              "<Figure size 432x288 with 1 Axes>"
            ]
          },
          "metadata": {}
        }
      ]
    },
    {
      "cell_type": "markdown",
      "metadata": {
        "id": "TuzylxASpS7y"
      },
      "source": [
        "#2 A)"
      ]
    },
    {
      "cell_type": "code",
      "metadata": {
        "colab": {
          "base_uri": "https://localhost:8080/",
          "height": 365
        },
        "id": "A26BZFjsdsTs",
        "outputId": "b54580cc-467f-4df6-fcaa-c8b2a4dfee20"
      },
      "source": [
        "my_proc.plot_degree_dist()"
      ],
      "execution_count": null,
      "outputs": [
        {
          "output_type": "display_data",
          "data": {
            "image/png": "[encoded data removed]",
            "text/plain": [
              "<Figure size 360x360 with 1 Axes>"
            ]
          },
          "metadata": {}
        }
      ]
    },
    {
      "cell_type": "markdown",
      "metadata": {
        "id": "_T_c8DQHpVeD"
      },
      "source": [
        "# 2 B)"
      ]
    },
    {
      "cell_type": "markdown",
      "metadata": {
        "id": "NgtytiRC-LM1"
      },
      "source": [
        "Распределение среднего количества соседей для вершин.\n"
      ]
    },
    {
      "cell_type": "code",
      "metadata": {
        "colab": {
          "base_uri": "https://localhost:8080/",
          "height": 365
        },
        "id": "0Ms6Aesk2kj-",
        "outputId": "159365ce-7093-4ebc-e97d-ffec983f5f76"
      },
      "source": [
        "my_proc.plot_degree_dist_neigh()"
      ],
      "execution_count": null,
      "outputs": [
        {
          "output_type": "display_data",
          "data": {
            "image/png": "[encoded data removed]",
            "text/plain": [
              "<Figure size 360x360 with 1 Axes>"
            ]
          },
          "metadata": {}
        }
      ]
    },
    {
      "cell_type": "markdown",
      "metadata": {
        "id": "KKeqy6YbJRNw"
      },
      "source": [
        "Совместное распределение"
      ]
    },
    {
      "cell_type": "code",
      "metadata": {
        "colab": {
          "base_uri": "https://localhost:8080/",
          "height": 491
        },
        "id": "_Gj74kBMJQXt",
        "outputId": "12a4ee3b-9e31-490c-e6e1-3efb82332dae"
      },
      "source": [
        "my_proc.viz_joint()"
      ],
      "execution_count": null,
      "outputs": [
        {
          "output_type": "stream",
          "name": "stderr",
          "text": [
            "/usr/local/lib/python3.7/dist-packages/seaborn/_decorators.py:43: FutureWarning: Pass the following variables as keyword args: x, y. From version 0.12, the only valid positional argument will be `data`, and passing other arguments without an explicit keyword will result in an error or misinterpretation.\n",
            "  FutureWarning\n"
          ]
        },
        {
          "output_type": "display_data",
          "data": {
            "image/png": "[encoded data removed]",
            "text/plain": [
              "<Figure size 432x432 with 3 Axes>"
            ]
          },
          "metadata": {}
        }
      ]
    },
    {
      "cell_type": "code",
      "metadata": {
        "colab": {
          "base_uri": "https://localhost:8080/",
          "height": 34
        },
        "id": "vTica8Py3A6w",
        "outputId": "856f2ef5-bf28-4cda-eb9c-b1268022c761"
      },
      "source": [
        "fig = plt.gcf()"
      ],
      "execution_count": null,
      "outputs": [
        {
          "output_type": "display_data",
          "data": {
            "text/plain": [
              "<Figure size 432x288 with 0 Axes>"
            ]
          },
          "metadata": {}
        }
      ]
    },
    {
      "cell_type": "markdown",
      "metadata": {
        "id": "jwr06hME-Cok"
      },
      "source": [
        "# 1) Попытки в анимацию. Не работает :с"
      ]
    },
    {
      "cell_type": "code",
      "metadata": {
        "id": "fx27Ge093Bvn"
      },
      "source": [
        "ani = FuncAnimation(fig, my_proc.update,frames=range(len(my_proc.result)), interval=50)"
      ],
      "execution_count": null,
      "outputs": []
    },
    {
      "cell_type": "code",
      "metadata": {
        "id": "v2aPPmJw3qlB"
      },
      "source": [
        "plt.show()"
      ],
      "execution_count": null,
      "outputs": []
    },
    {
      "cell_type": "code",
      "metadata": {
        "colab": {
          "base_uri": "https://localhost:8080/",
          "height": 425
        },
        "id": "bFRZNEr83bGf",
        "outputId": "1329a7b5-ffba-43d7-db98-ba85ab0b3c99"
      },
      "source": [
        "ani.save('crap.gif', writer='pillow', fps=1)"
      ],
      "execution_count": null,
      "outputs": [
        {
          "output_type": "error",
          "ename": "IndexError",
          "evalue": "ignored",
          "traceback": [
            "\u001b[0;31m---------------------------------------------------------------------------\u001b[0m",
            "\u001b[0;31mAttributeError\u001b[0m                            Traceback (most recent call last)",
            "\u001b[0;32m/usr/local/lib/python3.7/dist-packages/matplotlib/animation.py\u001b[0m in \u001b[0;36msaving\u001b[0;34m(self, fig, outfile, dpi, *args, **kwargs)\u001b[0m\n\u001b[1;32m    229\u001b[0m         \u001b[0;32mtry\u001b[0m\u001b[0;34m:\u001b[0m\u001b[0;34m\u001b[0m\u001b[0;34m\u001b[0m\u001b[0m\n\u001b[0;32m--> 230\u001b[0;31m             \u001b[0;32myield\u001b[0m \u001b[0mself\u001b[0m\u001b[0;34m\u001b[0m\u001b[0;34m\u001b[0m\u001b[0m\n\u001b[0m\u001b[1;32m    231\u001b[0m         \u001b[0;32mfinally\u001b[0m\u001b[0;34m:\u001b[0m\u001b[0;34m\u001b[0m\u001b[0;34m\u001b[0m\u001b[0m\n",
            "\u001b[0;32m/usr/local/lib/python3.7/dist-packages/matplotlib/animation.py\u001b[0m in \u001b[0;36msave\u001b[0;34m(self, filename, writer, fps, dpi, codec, bitrate, extra_args, metadata, extra_anim, savefig_kwargs, progress_callback)\u001b[0m\n\u001b[1;32m   1134\u001b[0m                     \u001b[0;31m# Clear the initial frame\u001b[0m\u001b[0;34m\u001b[0m\u001b[0;34m\u001b[0m\u001b[0;34m\u001b[0m\u001b[0m\n\u001b[0;32m-> 1135\u001b[0;31m                     \u001b[0manim\u001b[0m\u001b[0;34m.\u001b[0m\u001b[0m_init_draw\u001b[0m\u001b[0;34m(\u001b[0m\u001b[0;34m)\u001b[0m\u001b[0;34m\u001b[0m\u001b[0;34m\u001b[0m\u001b[0m\n\u001b[0m\u001b[1;32m   1136\u001b[0m                 \u001b[0mframe_number\u001b[0m \u001b[0;34m=\u001b[0m \u001b[0;36m0\u001b[0m\u001b[0;34m\u001b[0m\u001b[0;34m\u001b[0m\u001b[0m\n",
            "\u001b[0;32m/usr/local/lib/python3.7/dist-packages/matplotlib/animation.py\u001b[0m in \u001b[0;36m_init_draw\u001b[0;34m(self)\u001b[0m\n\u001b[1;32m   1742\u001b[0m         \u001b[0;32mif\u001b[0m \u001b[0mself\u001b[0m\u001b[0;34m.\u001b[0m\u001b[0m_init_func\u001b[0m \u001b[0;32mis\u001b[0m \u001b[0;32mNone\u001b[0m\u001b[0;34m:\u001b[0m\u001b[0;34m\u001b[0m\u001b[0;34m\u001b[0m\u001b[0m\n\u001b[0;32m-> 1743\u001b[0;31m             \u001b[0mself\u001b[0m\u001b[0;34m.\u001b[0m\u001b[0m_draw_frame\u001b[0m\u001b[0;34m(\u001b[0m\u001b[0mnext\u001b[0m\u001b[0;34m(\u001b[0m\u001b[0mself\u001b[0m\u001b[0;34m.\u001b[0m\u001b[0mnew_frame_seq\u001b[0m\u001b[0;34m(\u001b[0m\u001b[0;34m)\u001b[0m\u001b[0;34m)\u001b[0m\u001b[0;34m)\u001b[0m\u001b[0;34m\u001b[0m\u001b[0;34m\u001b[0m\u001b[0m\n\u001b[0m\u001b[1;32m   1744\u001b[0m \u001b[0;34m\u001b[0m\u001b[0m\n",
            "\u001b[0;32m/usr/local/lib/python3.7/dist-packages/matplotlib/animation.py\u001b[0m in \u001b[0;36m_draw_frame\u001b[0;34m(self, framedata)\u001b[0m\n\u001b[1;32m   1765\u001b[0m         \u001b[0;31m# func needs to return a sequence of any artists that were modified.\u001b[0m\u001b[0;34m\u001b[0m\u001b[0;34m\u001b[0m\u001b[0;34m\u001b[0m\u001b[0m\n\u001b[0;32m-> 1766\u001b[0;31m         \u001b[0mself\u001b[0m\u001b[0;34m.\u001b[0m\u001b[0m_drawn_artists\u001b[0m \u001b[0;34m=\u001b[0m \u001b[0mself\u001b[0m\u001b[0;34m.\u001b[0m\u001b[0m_func\u001b[0m\u001b[0;34m(\u001b[0m\u001b[0mframedata\u001b[0m\u001b[0;34m,\u001b[0m \u001b[0;34m*\u001b[0m\u001b[0mself\u001b[0m\u001b[0;34m.\u001b[0m\u001b[0m_args\u001b[0m\u001b[0;34m)\u001b[0m\u001b[0;34m\u001b[0m\u001b[0;34m\u001b[0m\u001b[0m\n\u001b[0m\u001b[1;32m   1767\u001b[0m         \u001b[0;32mif\u001b[0m \u001b[0mself\u001b[0m\u001b[0;34m.\u001b[0m\u001b[0m_blit\u001b[0m\u001b[0;34m:\u001b[0m\u001b[0;34m\u001b[0m\u001b[0;34m\u001b[0m\u001b[0m\n",
            "\u001b[0;32m/content/gdrive/MyDrive/epi_process.py\u001b[0m in \u001b[0;36mupdate\u001b[0;34m(self, num)\u001b[0m\n\u001b[1;32m    161\u001b[0m \u001b[0;34m\u001b[0m\u001b[0m\n\u001b[0;32m--> 162\u001b[0;31m         \u001b[0mnx\u001b[0m\u001b[0;34m.\u001b[0m\u001b[0mdraw_networkx_nodes\u001b[0m\u001b[0;34m(\u001b[0m\u001b[0mself\u001b[0m\u001b[0;34m.\u001b[0m\u001b[0mG\u001b[0m\u001b[0;34m,\u001b[0m \u001b[0mpos\u001b[0m\u001b[0;34m=\u001b[0m\u001b[0mself\u001b[0m\u001b[0;34m.\u001b[0m\u001b[0mpos\u001b[0m\u001b[0;34m,\u001b[0m \u001b[0mnodelist\u001b[0m\u001b[0;34m=\u001b[0m\u001b[0mself\u001b[0m\u001b[0;34m.\u001b[0m\u001b[0mgif\u001b[0m\u001b[0;34m[\u001b[0m\u001b[0mnum\u001b[0m\u001b[0;34m]\u001b[0m\u001b[0;34m[\u001b[0m\u001b[0;36m0\u001b[0m\u001b[0;34m]\u001b[0m\u001b[0;34m,\u001b[0m \u001b[0mnode_color\u001b[0m\u001b[0;34m=\u001b[0m\u001b[0mself\u001b[0m\u001b[0;34m.\u001b[0m\u001b[0mgif\u001b[0m\u001b[0;34m[\u001b[0m\u001b[0mnum\u001b[0m\u001b[0;34m]\u001b[0m\u001b[0;34m[\u001b[0m\u001b[0;36m1\u001b[0m\u001b[0;34m]\u001b[0m\u001b[0;34m)\u001b[0m\u001b[0;34m\u001b[0m\u001b[0;34m\u001b[0m\u001b[0m\n\u001b[0m\u001b[1;32m    163\u001b[0m     \u001b[0;32mdef\u001b[0m \u001b[0mviz_joint\u001b[0m\u001b[0;34m(\u001b[0m\u001b[0mself\u001b[0m\u001b[0;34m)\u001b[0m\u001b[0;34m:\u001b[0m\u001b[0;34m\u001b[0m\u001b[0;34m\u001b[0m\u001b[0m\n",
            "\u001b[0;31mAttributeError\u001b[0m: 'EpiProcess' object has no attribute 'pos'",
            "\nDuring handling of the above exception, another exception occurred:\n",
            "\u001b[0;31mIndexError\u001b[0m                                Traceback (most recent call last)",
            "\u001b[0;32m<ipython-input-13-3ed935dbce00>\u001b[0m in \u001b[0;36m<module>\u001b[0;34m()\u001b[0m\n\u001b[0;32m----> 1\u001b[0;31m \u001b[0mani\u001b[0m\u001b[0;34m.\u001b[0m\u001b[0msave\u001b[0m\u001b[0;34m(\u001b[0m\u001b[0;34m'crap.gif'\u001b[0m\u001b[0;34m,\u001b[0m \u001b[0mwriter\u001b[0m\u001b[0;34m=\u001b[0m\u001b[0;34m'pillow'\u001b[0m\u001b[0;34m,\u001b[0m \u001b[0mfps\u001b[0m\u001b[0;34m=\u001b[0m\u001b[0;36m1\u001b[0m\u001b[0;34m)\u001b[0m\u001b[0;34m\u001b[0m\u001b[0;34m\u001b[0m\u001b[0m\n\u001b[0m",
            "\u001b[0;32m/usr/local/lib/python3.7/dist-packages/matplotlib/animation.py\u001b[0m in \u001b[0;36msave\u001b[0;34m(self, filename, writer, fps, dpi, codec, bitrate, extra_args, metadata, extra_anim, savefig_kwargs, progress_callback)\u001b[0m\n\u001b[1;32m   1150\u001b[0m                             \u001b[0mprogress_callback\u001b[0m\u001b[0;34m(\u001b[0m\u001b[0mframe_number\u001b[0m\u001b[0;34m,\u001b[0m \u001b[0mtotal_frames\u001b[0m\u001b[0;34m)\u001b[0m\u001b[0;34m\u001b[0m\u001b[0;34m\u001b[0m\u001b[0m\n\u001b[1;32m   1151\u001b[0m                             \u001b[0mframe_number\u001b[0m \u001b[0;34m+=\u001b[0m \u001b[0;36m1\u001b[0m\u001b[0;34m\u001b[0m\u001b[0;34m\u001b[0m\u001b[0m\n\u001b[0;32m-> 1152\u001b[0;31m                     \u001b[0mwriter\u001b[0m\u001b[0;34m.\u001b[0m\u001b[0mgrab_frame\u001b[0m\u001b[0;34m(\u001b[0m\u001b[0;34m**\u001b[0m\u001b[0msavefig_kwargs\u001b[0m\u001b[0;34m)\u001b[0m\u001b[0;34m\u001b[0m\u001b[0;34m\u001b[0m\u001b[0m\n\u001b[0m\u001b[1;32m   1153\u001b[0m \u001b[0;34m\u001b[0m\u001b[0m\n\u001b[1;32m   1154\u001b[0m         \u001b[0;31m# Reconnect signal for first draw if necessary\u001b[0m\u001b[0;34m\u001b[0m\u001b[0;34m\u001b[0m\u001b[0;34m\u001b[0m\u001b[0m\n",
            "\u001b[0;32m/usr/lib/python3.7/contextlib.py\u001b[0m in \u001b[0;36m__exit__\u001b[0;34m(self, type, value, traceback)\u001b[0m\n\u001b[1;32m    128\u001b[0m                 \u001b[0mvalue\u001b[0m \u001b[0;34m=\u001b[0m \u001b[0mtype\u001b[0m\u001b[0;34m(\u001b[0m\u001b[0;34m)\u001b[0m\u001b[0;34m\u001b[0m\u001b[0;34m\u001b[0m\u001b[0m\n\u001b[1;32m    129\u001b[0m             \u001b[0;32mtry\u001b[0m\u001b[0;34m:\u001b[0m\u001b[0;34m\u001b[0m\u001b[0;34m\u001b[0m\u001b[0m\n\u001b[0;32m--> 130\u001b[0;31m                 \u001b[0mself\u001b[0m\u001b[0;34m.\u001b[0m\u001b[0mgen\u001b[0m\u001b[0;34m.\u001b[0m\u001b[0mthrow\u001b[0m\u001b[0;34m(\u001b[0m\u001b[0mtype\u001b[0m\u001b[0;34m,\u001b[0m \u001b[0mvalue\u001b[0m\u001b[0;34m,\u001b[0m \u001b[0mtraceback\u001b[0m\u001b[0;34m)\u001b[0m\u001b[0;34m\u001b[0m\u001b[0;34m\u001b[0m\u001b[0m\n\u001b[0m\u001b[1;32m    131\u001b[0m             \u001b[0;32mexcept\u001b[0m \u001b[0mStopIteration\u001b[0m \u001b[0;32mas\u001b[0m \u001b[0mexc\u001b[0m\u001b[0;34m:\u001b[0m\u001b[0;34m\u001b[0m\u001b[0;34m\u001b[0m\u001b[0m\n\u001b[1;32m    132\u001b[0m                 \u001b[0;31m# Suppress StopIteration *unless* it's the same exception that\u001b[0m\u001b[0;34m\u001b[0m\u001b[0;34m\u001b[0m\u001b[0;34m\u001b[0m\u001b[0m\n",
            "\u001b[0;32m/usr/local/lib/python3.7/dist-packages/matplotlib/animation.py\u001b[0m in \u001b[0;36msaving\u001b[0;34m(self, fig, outfile, dpi, *args, **kwargs)\u001b[0m\n\u001b[1;32m    230\u001b[0m             \u001b[0;32myield\u001b[0m \u001b[0mself\u001b[0m\u001b[0;34m\u001b[0m\u001b[0;34m\u001b[0m\u001b[0m\n\u001b[1;32m    231\u001b[0m         \u001b[0;32mfinally\u001b[0m\u001b[0;34m:\u001b[0m\u001b[0;34m\u001b[0m\u001b[0;34m\u001b[0m\u001b[0m\n\u001b[0;32m--> 232\u001b[0;31m             \u001b[0mself\u001b[0m\u001b[0;34m.\u001b[0m\u001b[0mfinish\u001b[0m\u001b[0;34m(\u001b[0m\u001b[0;34m)\u001b[0m\u001b[0;34m\u001b[0m\u001b[0;34m\u001b[0m\u001b[0m\n\u001b[0m\u001b[1;32m    233\u001b[0m \u001b[0;34m\u001b[0m\u001b[0m\n\u001b[1;32m    234\u001b[0m \u001b[0;34m\u001b[0m\u001b[0m\n",
            "\u001b[0;32m/usr/local/lib/python3.7/dist-packages/matplotlib/animation.py\u001b[0m in \u001b[0;36mfinish\u001b[0;34m(self)\u001b[0m\n\u001b[1;32m    572\u001b[0m \u001b[0;34m\u001b[0m\u001b[0m\n\u001b[1;32m    573\u001b[0m     \u001b[0;32mdef\u001b[0m \u001b[0mfinish\u001b[0m\u001b[0;34m(\u001b[0m\u001b[0mself\u001b[0m\u001b[0;34m)\u001b[0m\u001b[0;34m:\u001b[0m\u001b[0;34m\u001b[0m\u001b[0;34m\u001b[0m\u001b[0m\n\u001b[0;32m--> 574\u001b[0;31m         self._frames[0].save(\n\u001b[0m\u001b[1;32m    575\u001b[0m             \u001b[0mself\u001b[0m\u001b[0;34m.\u001b[0m\u001b[0m_outfile\u001b[0m\u001b[0;34m,\u001b[0m \u001b[0msave_all\u001b[0m\u001b[0;34m=\u001b[0m\u001b[0;32mTrue\u001b[0m\u001b[0;34m,\u001b[0m \u001b[0mappend_images\u001b[0m\u001b[0;34m=\u001b[0m\u001b[0mself\u001b[0m\u001b[0;34m.\u001b[0m\u001b[0m_frames\u001b[0m\u001b[0;34m[\u001b[0m\u001b[0;36m1\u001b[0m\u001b[0;34m:\u001b[0m\u001b[0;34m]\u001b[0m\u001b[0;34m,\u001b[0m\u001b[0;34m\u001b[0m\u001b[0;34m\u001b[0m\u001b[0m\n\u001b[1;32m    576\u001b[0m             duration=int(1000 / self.fps), loop=0)\n",
            "\u001b[0;31mIndexError\u001b[0m: list index out of range"
          ]
        }
      ]
    },
    {
      "cell_type": "code",
      "metadata": {
        "id": "j3QZfQIu4x3D"
      },
      "source": [
        "writer = PillowWriter(fps=20)\n",
        "ani.save(\"demo2.gif\", writer=writer)"
      ],
      "execution_count": null,
      "outputs": []
    },
    {
      "cell_type": "code",
      "metadata": {
        "id": "CcIEbfCI9Idr"
      },
      "source": [
        "my_proc.update(6)"
      ],
      "execution_count": null,
      "outputs": []
    },
    {
      "cell_type": "markdown",
      "metadata": {
        "id": "OdD5Tns5n3uB"
      },
      "source": [
        "#4) Много процессов их распределения\n"
      ]
    },
    {
      "cell_type": "code",
      "metadata": {
        "id": "vjvmc4qWnlh9"
      },
      "source": [
        "processes=[]\n",
        "for x in range(0,9):\n",
        "    processes.append(ep.EpiProcess(1000,1,False))\n",
        "    processes[x].run()"
      ],
      "execution_count": null,
      "outputs": []
    },
    {
      "cell_type": "code",
      "metadata": {
        "id": "Netiba0snrka"
      },
      "source": [
        "for x in processes:\n",
        "    x.viz_run()"
      ],
      "execution_count": null,
      "outputs": []
    },
    {
      "cell_type": "markdown",
      "metadata": {
        "id": "cBSWr6c-eshc"
      },
      "source": [
        "#SIR model\n"
      ]
    },
    {
      "cell_type": "code",
      "metadata": {
        "id": "ctU7j2bfevn4"
      },
      "source": [
        "class SIR():\n",
        "    def __init__(self,size,percent,*args, beta, gamma,**kwargs):\n",
        "        self.I = int(size/100*percent)\n",
        "        self.S = size-self.I\n",
        "        self.R = 0\n",
        "        self.N = size\n",
        "        self.beta = beta\n",
        "        self.gamma = gamma\n",
        "        self.result_S = []\n",
        "        self.result_I = []\n",
        "        self.result_R = []\n",
        "    def calc(self,times):\n",
        "        for t in range(0,times):\n",
        "            ds_dt=self.dS_dt()\n",
        "            di_dt=self.dI_dt()\n",
        "            dr_dt=self.dR_dt()\n",
        "            self.result_S.append(ds_dt )\n",
        "            self.result_I.append(di_dt )\n",
        "            self.result_R.append(dr_dt )\n",
        "            self.S += ds_dt\n",
        "            self.I += di_dt\n",
        "            self.R += dr_dt\n",
        "        print(self.S,self.I,self.R)\n",
        "    def dS_dt(self):\n",
        "        return -self.beta * self.S * self.I / self.N\n",
        "    def dR_dt(self):\n",
        "        return self.gamma * self.I\n",
        "    def dI_dt(self):\n",
        "        return self.beta * self.S * self.I / self.N - self.gamma * self.I\n",
        "    def viz(self):\n",
        "        table=list(zip(self.result_S,self.result_I,self.result_R))\n",
        "        df = pd.DataFrame(table,\n",
        "               columns =['S', 'I','R'])\n",
        "       \n",
        "        return (sns.lineplot(data=df))"
      ],
      "execution_count": 113,
      "outputs": []
    },
    {
      "cell_type": "code",
      "metadata": {
        "colab": {
          "base_uri": "https://localhost:8080/",
          "height": 339
        },
        "id": "sXvNPCwHrTfj",
        "outputId": "1aa3ff5f-33cf-44de-8ba6-6d68e0d0283c"
      },
      "source": [
        "model=SIR(1000,1,beta=0.4,gamma=0.1)\n",
        "model.calc(100)\n",
        "print(model.result_I)\n",
        "model.viz()"
      ],
      "execution_count": 114,
      "outputs": [
        {
          "output_type": "stream",
          "name": "stdout",
          "text": [
            "15.216357359692 0.3020822244448358 984.4815604158631\n",
            "[2.96, 3.8156313600000002, 4.904713945148329, 6.281629354172198, 8.007151107729232, 10.144632655856945, 12.7523270472369, 15.870010105684802, 19.49808568876521, 23.568327467947725, 27.90825172894389, 32.20669819366347, 35.99636660433974, 38.6767646596503, 39.60067124859478, 38.228610456682716, 34.31579121149921, 28.052547811854616, 20.07208649645934, 11.296347901211249, 2.6841634402743964, -4.999029348460041, -11.29933391027415, -16.068488917108592, -19.382065780003373, -21.440285227366214, -22.487874104290967, -22.763719149871477, -22.476077240317174, -21.794607578827787, -20.851507221120094, -19.746587981112352, -18.55339554426877, -17.324982522801577, -16.098807455348496, -14.90066286668035, -13.747721767637174, -12.650852737532611, -11.616356802247129, -10.647259851531588, -9.744269056578258, -8.906477783733632, -8.131883318187043, -7.417765688689462, -6.760963574940774, -6.1580740014793305, -5.605595605758609, -5.100030143232006, -4.637953105062021, -4.216061526937944, -3.8312049997881696, -3.480404361926547, -3.160861415500788, -2.8699621640746065, -2.605275436706842, -2.3645482912870244, -2.14569923528412, -1.9468100354085556, -1.7661166868026024, -1.6019999608433413, -1.4529758362656318, -1.3176860319893553, -1.1948887949514073, -1.083450047277055, -0.9823349604142977, -0.8905999964747763, -0.8073854367554237, -0.7319084025655413, -0.6634563627632859, -0.6013811148255387, -0.5450932210781664, -0.49405687831795864, -0.44778519701584973, -0.4058358652594957, -0.3678071723075286, -0.333334366884742, -0.30208632599140217, -0.27376251091177, -0.2480901881961007, -0.22482189458821847, -0.20373312612563402, -0.18462023291269636, -0.16729850233128282, -0.15160041468774718, -0.13737405648507223, -0.12448167764585974, -0.11279838008895299, -0.1022109260768162, -0.09261665570101192, -0.08392250375942005, -0.07604410710252449, -0.06890499428921179, -0.06243585009766409, -0.056573848087006606, -0.05126204500350885, -0.04644883137454197, -0.04208743313737868, -0.03813545961145177, -0.03455449354493342, -0.03130971935241043]\n"
          ]
        },
        {
          "output_type": "execute_result",
          "data": {
            "text/plain": [
              "<matplotlib.axes._subplots.AxesSubplot at 0x7fb721569550>"
            ]
          },
          "metadata": {},
          "execution_count": 114
        },
        {
          "output_type": "display_data",
          "data": {
            "image/png": "[encoded data removed]",
            "text/plain": [
              "<Figure size 432x288 with 1 Axes>"
            ]
          },
          "metadata": {}
        }
      ]
    }
  ]
}
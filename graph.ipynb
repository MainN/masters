{
  "nbformat": 4,
  "nbformat_minor": 0,
  "metadata": {
    "colab": {
      "name": "graph.ipynb",
      "provenance": [],
      "collapsed_sections": []
    },
    "kernelspec": {
      "name": "python3",
      "display_name": "Python 3"
    },
    "language_info": {
      "name": "python"
    }
  },
  "cells": [
    {
      "cell_type": "code",
      "metadata": {
        "id": "B5ybJVL55wID"
      },
      "source": [
        "import networkx as nx\n",
        "import numpy as np\n",
        "import random"
      ],
      "execution_count": 3,
      "outputs": []
    },
    {
      "cell_type": "code",
      "metadata": {
        "colab": {
          "base_uri": "https://localhost:8080/",
          "height": 319
        },
        "id": "FRPISO3c6D_h",
        "outputId": "a54caea1-b87d-4497-dc1f-628d8e711f23"
      },
      "source": [
        "nx.draw(G)"
      ],
      "execution_count": null,
      "outputs": [
        {
          "output_type": "display_data",
          "data": {
            "image/png": "[encoded data removed]",
            "text/plain": [
              "<Figure size 432x288 with 1 Axes>"
            ]
          },
          "metadata": {}
        }
      ]
    },
    {
      "cell_type": "code",
      "metadata": {
        "id": "1L_MynBe__6A"
      },
      "source": [
        "class Epi_Process():\n",
        "    def __init__(self,size,percent):\n",
        "        self.paramertrs_init(size,percent)\n",
        "        self.graph_init()  \n",
        "        self.random_start_sample()\n",
        "    def paramertrs_init(self,size,percent):\n",
        "        self.size = size\n",
        "        self.percent = percent\n",
        "        self.cummulitive_sum_I=0\n",
        "    def graph_init(self):\n",
        "        sequence = nx.random_powerlaw_tree_sequence(self.size, tries=5000)\n",
        "        self.G = nx.configuration_model(sequence)\n",
        "    def random_start_sample(self):\n",
        "        self.start_sample_size = int(self.size/100 * self.percent)\n",
        "        self.S=set(self.G)\n",
        "        self.I=set()\n",
        "        self.R=set()\n",
        "        self.tmp=set()\n",
        "        self.result=[]\n",
        "        while len(self.I)<self.start_sample_size:\n",
        "            self.infect(random.randint(0, self.size))\n",
        "    def infect(self,x):\n",
        "        self.S.discard(x)\n",
        "        if not x in self.R:\n",
        "            self.I.add(x)\n",
        "    def recover(self,x):\n",
        "        self.I.discard(x)\n",
        "        self.R.add(x)\n",
        "    def infect_neigh(self,x):\n",
        "        for neigh in self.G.neighbors(x):\n",
        "                self.infect(neigh)\n",
        "    def iterartion(self):\n",
        "        self.tmp=self.I.copy()\n",
        "        for x in self.tmp:\n",
        "            self.infect_neigh(x)\n",
        "            self.recover(x)\n",
        "    def run(self):\n",
        "        while len(self.I) != 0:\n",
        "            self.result.append(len(self.I))\n",
        "            self.iterartion()\n",
        "        self.result.append(len(self.I))"
      ],
      "execution_count": 50,
      "outputs": []
    },
    {
      "cell_type": "code",
      "metadata": {
        "colab": {
          "base_uri": "https://localhost:8080/"
        },
        "id": "syyBvl4tD1sM",
        "outputId": "965f35e7-ab17-4fdb-c5fa-8b353cb5a7ad"
      },
      "source": [
        "my_proc=Epi_Process(100,5)\n",
        "my_proc.run()\n",
        "print(my_proc.S)\n",
        "print(my_proc.I)\n",
        "print(my_proc.R)\n",
        "print(len(my_proc.S)+len(my_proc.I)+len(my_proc.R))\n",
        "print(my_proc.result)"
      ],
      "execution_count": 52,
      "outputs": [
        {
          "output_type": "stream",
          "name": "stdout",
          "text": [
            "{0, 9, 34, 37, 54, 61, 69, 74, 75, 87, 90, 92, 97, 99}\n",
            "set()\n",
            "{1, 2, 3, 4, 5, 6, 7, 8, 10, 11, 12, 13, 14, 15, 16, 17, 18, 19, 20, 21, 22, 23, 24, 25, 26, 27, 28, 29, 30, 31, 32, 33, 35, 36, 38, 39, 40, 41, 42, 43, 44, 45, 46, 47, 48, 49, 50, 51, 52, 53, 55, 56, 57, 58, 59, 60, 62, 63, 64, 65, 66, 67, 68, 70, 71, 72, 73, 76, 77, 78, 79, 80, 81, 82, 83, 84, 85, 86, 88, 89, 91, 93, 94, 95, 96, 98}\n",
            "100\n",
            "[5, 6, 18, 23, 19, 9, 3, 2, 1, 0]\n"
          ]
        }
      ]
    }
  ]
}
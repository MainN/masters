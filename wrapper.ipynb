{
  "nbformat": 4,
  "nbformat_minor": 0,
  "metadata": {
    "colab": {
      "name": "wrapper.ipynb",
      "provenance": []
    },
    "kernelspec": {
      "name": "python3",
      "display_name": "Python 3"
    },
    "language_info": {
      "name": "python"
    }
  },
  "cells": [
    {
      "cell_type": "code",
      "metadata": {
        "id": "RMvFRrFw1us6"
      },
      "source": [
        "import networkx as nx\n",
        "import numpy as np\n",
        "import random\n",
        "import pandas as pd\n",
        "import seaborn as sns\n",
        "import epi_process as ep\n",
        "from SIR_model import SIR \n",
        "import mcmc\n",
        "from matplotlib import pyplot as plt\n",
        "import matplotlib\n",
        "import matplotlib.animation as animation\n",
        "from matplotlib.animation import PillowWriter\n",
        "from matplotlib.animation import FuncAnimation\n",
        "sns.set()"
      ],
      "execution_count": 1,
      "outputs": []
    },
    {
      "cell_type": "code",
      "metadata": {
        "id": "z3PG6Icm15xJ"
      },
      "source": [
        "class Wrapper:\n",
        "    def __init__(self,size,percent,t,warrmup,*args,beta,gamma,dt,**kwargs):\n",
        "        self.Graph = ep.EpiProcess(size,percent,False)\n",
        "        self.run_graph()\n",
        "        self.pseudo_data=self.Graph.result\n",
        "        self.mcmc= mcmc.MCMC(size,percent,t,warrmup,self.pseudo_data,beta=beta,gamma=gamma,dt=dt)\n",
        "        self.graph_r0=self.get_R0_graph()\n",
        "    def run_graph(self):\n",
        "        self.Graph.run()\n",
        "    def get_R0_graph(self):\n",
        "        return self.Graph.graph_degree()\n",
        "    def MCMC_go(self,iter):\n",
        "        self.mcmc.run(iter)\n",
        "        print(self.mcmc.result[-1][0],self.mcmc.result[-1][1])\n",
        "        return self.mcmc.result[-1][0]/self.mcmc.result[-1][1]\n",
        "    def error(self,iter):\n",
        "        return self.MCMC_go(iter)-self.get_R0_graph()"
      ],
      "execution_count": 24,
      "outputs": []
    },
    {
      "cell_type": "code",
      "metadata": {
        "id": "z7WPgCn_73li"
      },
      "source": [
        "wrp = Wrapper(1000,1,1000,0.75,beta=0.2,gamma=0.1,dt=1.0)"
      ],
      "execution_count": 25,
      "outputs": []
    },
    {
      "cell_type": "code",
      "metadata": {
        "colab": {
          "base_uri": "https://localhost:8080/"
        },
        "id": "d-azadILkQC7",
        "outputId": "3f708eb1-157e-4bc9-c54d-8d8f370b0c7e"
      },
      "source": [
        "wrp.error(10000)"
      ],
      "execution_count": 26,
      "outputs": [
        {
          "output_type": "stream",
          "name": "stdout",
          "text": [
            "0.19422467 0.07968452\n"
          ]
        },
        {
          "output_type": "execute_result",
          "data": {
            "text/plain": [
              "1.43942036819458"
            ]
          },
          "metadata": {},
          "execution_count": 26
        }
      ]
    },
    {
      "cell_type": "code",
      "metadata": {
        "colab": {
          "base_uri": "https://localhost:8080/"
        },
        "id": "ZRfy_amW96lM",
        "outputId": "d83efe49-0d56-43c9-82e3-ec562d40a02d"
      },
      "source": [
        "s = SIR(1000,1,1000,beta=0.4,gamma=0.1,dt=1.0)\n",
        "print(s.get_results([10, 19, 89, 200, 158, 100, 51, 26, 13, 6, 5, 3, 0]))\n"
      ],
      "execution_count": 4,
      "outputs": [
        {
          "output_type": "stream",
          "name": "stdout",
          "text": [
            "[24.103572325835362, 63.66521534844994, 146.42971768276516, 246.16372646941846, 243.8171776462575, 138.6554790539708, 36.13423367660454, 23.229940395909, 15.16170986649138, 10.142619521494613, 6.972528783895354, 4.92121972441481, 3.5573300456392314]\n"
          ]
        }
      ]
    }
  ]
}